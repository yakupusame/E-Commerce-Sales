{
  "nbformat": 4,
  "nbformat_minor": 0,
  "metadata": {
    "colab": {
      "name": "E Commerce.ipynb",
      "provenance": [],
      "authorship_tag": "ABX9TyPIIGNC+wKgjyO8zTug5BG0",
      "include_colab_link": true
    },
    "kernelspec": {
      "name": "python3",
      "display_name": "Python 3"
    }
  },
  "cells": [
    {
      "cell_type": "markdown",
      "metadata": {
        "id": "view-in-github",
        "colab_type": "text"
      },
      "source": [
        "<a href=\"https://colab.research.google.com/github/yakupusame/E-Commerce-Sales/blob/master/E_Commerce(2).ipynb\" target=\"_parent\"><img src=\"https://colab.research.google.com/assets/colab-badge.svg\" alt=\"Open In Colab\"/></a>"
      ]
    },
    {
      "cell_type": "code",
      "metadata": {
        "id": "VhaFokLGZAZq",
        "colab_type": "code",
        "colab": {
          "base_uri": "https://localhost:8080/",
          "height": 52
        },
        "outputId": "9021d383-6360-450e-9a60-1955aabe5517"
      },
      "source": [
        "import pandas as pd\n",
        "import numpy as np\n",
        "import matplotlib.pyplot as plt\n",
        "import seaborn as sns"
      ],
      "execution_count": 1,
      "outputs": [
        {
          "output_type": "stream",
          "text": [
            "/usr/local/lib/python3.6/dist-packages/statsmodels/tools/_testing.py:19: FutureWarning: pandas.util.testing is deprecated. Use the functions in the public API at pandas.testing instead.\n",
            "  import pandas.util.testing as tm\n"
          ],
          "name": "stderr"
        }
      ]
    },
    {
      "cell_type": "code",
      "metadata": {
        "id": "59ntuckGZPiU",
        "colab_type": "code",
        "colab": {}
      },
      "source": [
        "df = pd.read_csv('summer-products-with-rating-and-performance_2020-08.csv')\n"
      ],
      "execution_count": 2,
      "outputs": []
    },
    {
      "cell_type": "code",
      "metadata": {
        "id": "_fTTlVG1ZWXo",
        "colab_type": "code",
        "colab": {
          "base_uri": "https://localhost:8080/",
          "height": 667
        },
        "outputId": "aee73af5-129e-4e74-b803-28917877de8d"
      },
      "source": [
        "df.head()"
      ],
      "execution_count": 3,
      "outputs": [
        {
          "output_type": "execute_result",
          "data": {
            "text/html": [
              "<div>\n",
              "<style scoped>\n",
              "    .dataframe tbody tr th:only-of-type {\n",
              "        vertical-align: middle;\n",
              "    }\n",
              "\n",
              "    .dataframe tbody tr th {\n",
              "        vertical-align: top;\n",
              "    }\n",
              "\n",
              "    .dataframe thead th {\n",
              "        text-align: right;\n",
              "    }\n",
              "</style>\n",
              "<table border=\"1\" class=\"dataframe\">\n",
              "  <thead>\n",
              "    <tr style=\"text-align: right;\">\n",
              "      <th></th>\n",
              "      <th>title</th>\n",
              "      <th>title_orig</th>\n",
              "      <th>price</th>\n",
              "      <th>retail_price</th>\n",
              "      <th>currency_buyer</th>\n",
              "      <th>units_sold</th>\n",
              "      <th>uses_ad_boosts</th>\n",
              "      <th>rating</th>\n",
              "      <th>rating_count</th>\n",
              "      <th>rating_five_count</th>\n",
              "      <th>rating_four_count</th>\n",
              "      <th>rating_three_count</th>\n",
              "      <th>rating_two_count</th>\n",
              "      <th>rating_one_count</th>\n",
              "      <th>badges_count</th>\n",
              "      <th>badge_local_product</th>\n",
              "      <th>badge_product_quality</th>\n",
              "      <th>badge_fast_shipping</th>\n",
              "      <th>tags</th>\n",
              "      <th>product_color</th>\n",
              "      <th>product_variation_size_id</th>\n",
              "      <th>product_variation_inventory</th>\n",
              "      <th>shipping_option_name</th>\n",
              "      <th>shipping_option_price</th>\n",
              "      <th>shipping_is_express</th>\n",
              "      <th>countries_shipped_to</th>\n",
              "      <th>inventory_total</th>\n",
              "      <th>has_urgency_banner</th>\n",
              "      <th>urgency_text</th>\n",
              "      <th>origin_country</th>\n",
              "      <th>merchant_title</th>\n",
              "      <th>merchant_name</th>\n",
              "      <th>merchant_info_subtitle</th>\n",
              "      <th>merchant_rating_count</th>\n",
              "      <th>merchant_rating</th>\n",
              "      <th>merchant_id</th>\n",
              "      <th>merchant_has_profile_picture</th>\n",
              "      <th>merchant_profile_picture</th>\n",
              "      <th>product_url</th>\n",
              "      <th>product_picture</th>\n",
              "      <th>product_id</th>\n",
              "      <th>theme</th>\n",
              "      <th>crawl_month</th>\n",
              "    </tr>\n",
              "  </thead>\n",
              "  <tbody>\n",
              "    <tr>\n",
              "      <th>0</th>\n",
              "      <td>2020 Summer Vintage Flamingo Print  Pajamas Se...</td>\n",
              "      <td>2020 Summer Vintage Flamingo Print  Pajamas Se...</td>\n",
              "      <td>16.00</td>\n",
              "      <td>14</td>\n",
              "      <td>EUR</td>\n",
              "      <td>100</td>\n",
              "      <td>0</td>\n",
              "      <td>3.76</td>\n",
              "      <td>54</td>\n",
              "      <td>26.0</td>\n",
              "      <td>8.0</td>\n",
              "      <td>10.0</td>\n",
              "      <td>1.0</td>\n",
              "      <td>9.0</td>\n",
              "      <td>0</td>\n",
              "      <td>0</td>\n",
              "      <td>0</td>\n",
              "      <td>0</td>\n",
              "      <td>Summer,Fashion,womenunderwearsuit,printedpajam...</td>\n",
              "      <td>white</td>\n",
              "      <td>M</td>\n",
              "      <td>50</td>\n",
              "      <td>Livraison standard</td>\n",
              "      <td>4</td>\n",
              "      <td>0</td>\n",
              "      <td>34</td>\n",
              "      <td>50</td>\n",
              "      <td>1.0</td>\n",
              "      <td>Quantité limitée !</td>\n",
              "      <td>CN</td>\n",
              "      <td>zgrdejia</td>\n",
              "      <td>zgrdejia</td>\n",
              "      <td>(568 notes)</td>\n",
              "      <td>568</td>\n",
              "      <td>4.128521</td>\n",
              "      <td>595097d6a26f6e070cb878d1</td>\n",
              "      <td>0</td>\n",
              "      <td>NaN</td>\n",
              "      <td>https://www.wish.com/c/5e9ae51d43d6a96e303acdb0</td>\n",
              "      <td>https://contestimg.wish.com/api/webimage/5e9ae...</td>\n",
              "      <td>5e9ae51d43d6a96e303acdb0</td>\n",
              "      <td>summer</td>\n",
              "      <td>2020-08</td>\n",
              "    </tr>\n",
              "    <tr>\n",
              "      <th>1</th>\n",
              "      <td>SSHOUSE Summer Casual Sleeveless Soirée Party ...</td>\n",
              "      <td>Women's Casual Summer Sleeveless Sexy Mini Dress</td>\n",
              "      <td>8.00</td>\n",
              "      <td>22</td>\n",
              "      <td>EUR</td>\n",
              "      <td>20000</td>\n",
              "      <td>1</td>\n",
              "      <td>3.45</td>\n",
              "      <td>6135</td>\n",
              "      <td>2269.0</td>\n",
              "      <td>1027.0</td>\n",
              "      <td>1118.0</td>\n",
              "      <td>644.0</td>\n",
              "      <td>1077.0</td>\n",
              "      <td>0</td>\n",
              "      <td>0</td>\n",
              "      <td>0</td>\n",
              "      <td>0</td>\n",
              "      <td>Mini,womens dresses,Summer,Patchwork,fashion d...</td>\n",
              "      <td>green</td>\n",
              "      <td>XS</td>\n",
              "      <td>50</td>\n",
              "      <td>Livraison standard</td>\n",
              "      <td>2</td>\n",
              "      <td>0</td>\n",
              "      <td>41</td>\n",
              "      <td>50</td>\n",
              "      <td>1.0</td>\n",
              "      <td>Quantité limitée !</td>\n",
              "      <td>CN</td>\n",
              "      <td>SaraHouse</td>\n",
              "      <td>sarahouse</td>\n",
              "      <td>83 % avis positifs (17,752 notes)</td>\n",
              "      <td>17752</td>\n",
              "      <td>3.899673</td>\n",
              "      <td>56458aa03a698c35c9050988</td>\n",
              "      <td>0</td>\n",
              "      <td>NaN</td>\n",
              "      <td>https://www.wish.com/c/58940d436a0d3d5da4e95a38</td>\n",
              "      <td>https://contestimg.wish.com/api/webimage/58940...</td>\n",
              "      <td>58940d436a0d3d5da4e95a38</td>\n",
              "      <td>summer</td>\n",
              "      <td>2020-08</td>\n",
              "    </tr>\n",
              "    <tr>\n",
              "      <th>2</th>\n",
              "      <td>2020 Nouvelle Arrivée Femmes Printemps et Été ...</td>\n",
              "      <td>2020 New Arrival Women Spring and Summer Beach...</td>\n",
              "      <td>8.00</td>\n",
              "      <td>43</td>\n",
              "      <td>EUR</td>\n",
              "      <td>100</td>\n",
              "      <td>0</td>\n",
              "      <td>3.57</td>\n",
              "      <td>14</td>\n",
              "      <td>5.0</td>\n",
              "      <td>4.0</td>\n",
              "      <td>2.0</td>\n",
              "      <td>0.0</td>\n",
              "      <td>3.0</td>\n",
              "      <td>0</td>\n",
              "      <td>0</td>\n",
              "      <td>0</td>\n",
              "      <td>0</td>\n",
              "      <td>Summer,cardigan,women beachwear,chiffon,Sexy w...</td>\n",
              "      <td>leopardprint</td>\n",
              "      <td>XS</td>\n",
              "      <td>1</td>\n",
              "      <td>Livraison standard</td>\n",
              "      <td>3</td>\n",
              "      <td>0</td>\n",
              "      <td>36</td>\n",
              "      <td>50</td>\n",
              "      <td>1.0</td>\n",
              "      <td>Quantité limitée !</td>\n",
              "      <td>CN</td>\n",
              "      <td>hxt520</td>\n",
              "      <td>hxt520</td>\n",
              "      <td>86 % avis positifs (295 notes)</td>\n",
              "      <td>295</td>\n",
              "      <td>3.989831</td>\n",
              "      <td>5d464a1ffdf7bc44ee933c65</td>\n",
              "      <td>0</td>\n",
              "      <td>NaN</td>\n",
              "      <td>https://www.wish.com/c/5ea10e2c617580260d55310a</td>\n",
              "      <td>https://contestimg.wish.com/api/webimage/5ea10...</td>\n",
              "      <td>5ea10e2c617580260d55310a</td>\n",
              "      <td>summer</td>\n",
              "      <td>2020-08</td>\n",
              "    </tr>\n",
              "    <tr>\n",
              "      <th>3</th>\n",
              "      <td>Hot Summer Cool T-shirt pour les femmes Mode T...</td>\n",
              "      <td>Hot Summer Cool T Shirt for Women Fashion Tops...</td>\n",
              "      <td>8.00</td>\n",
              "      <td>8</td>\n",
              "      <td>EUR</td>\n",
              "      <td>5000</td>\n",
              "      <td>1</td>\n",
              "      <td>4.03</td>\n",
              "      <td>579</td>\n",
              "      <td>295.0</td>\n",
              "      <td>119.0</td>\n",
              "      <td>87.0</td>\n",
              "      <td>42.0</td>\n",
              "      <td>36.0</td>\n",
              "      <td>0</td>\n",
              "      <td>0</td>\n",
              "      <td>0</td>\n",
              "      <td>0</td>\n",
              "      <td>Summer,Shorts,Cotton,Cotton T Shirt,Sleeve,pri...</td>\n",
              "      <td>black</td>\n",
              "      <td>M</td>\n",
              "      <td>50</td>\n",
              "      <td>Livraison standard</td>\n",
              "      <td>2</td>\n",
              "      <td>0</td>\n",
              "      <td>41</td>\n",
              "      <td>50</td>\n",
              "      <td>NaN</td>\n",
              "      <td>NaN</td>\n",
              "      <td>CN</td>\n",
              "      <td>allenfan</td>\n",
              "      <td>allenfan</td>\n",
              "      <td>(23,832 notes)</td>\n",
              "      <td>23832</td>\n",
              "      <td>4.020435</td>\n",
              "      <td>58cfdefdacb37b556efdff7c</td>\n",
              "      <td>0</td>\n",
              "      <td>NaN</td>\n",
              "      <td>https://www.wish.com/c/5cedf17ad1d44c52c59e4aca</td>\n",
              "      <td>https://contestimg.wish.com/api/webimage/5cedf...</td>\n",
              "      <td>5cedf17ad1d44c52c59e4aca</td>\n",
              "      <td>summer</td>\n",
              "      <td>2020-08</td>\n",
              "    </tr>\n",
              "    <tr>\n",
              "      <th>4</th>\n",
              "      <td>Femmes Shorts d'été à lacets taille élastique ...</td>\n",
              "      <td>Women Summer Shorts Lace Up Elastic Waistband ...</td>\n",
              "      <td>2.72</td>\n",
              "      <td>3</td>\n",
              "      <td>EUR</td>\n",
              "      <td>100</td>\n",
              "      <td>1</td>\n",
              "      <td>3.10</td>\n",
              "      <td>20</td>\n",
              "      <td>6.0</td>\n",
              "      <td>4.0</td>\n",
              "      <td>2.0</td>\n",
              "      <td>2.0</td>\n",
              "      <td>6.0</td>\n",
              "      <td>0</td>\n",
              "      <td>0</td>\n",
              "      <td>0</td>\n",
              "      <td>0</td>\n",
              "      <td>Summer,Plus Size,Lace,Casual pants,Bottom,pant...</td>\n",
              "      <td>yellow</td>\n",
              "      <td>S</td>\n",
              "      <td>1</td>\n",
              "      <td>Livraison standard</td>\n",
              "      <td>1</td>\n",
              "      <td>0</td>\n",
              "      <td>35</td>\n",
              "      <td>50</td>\n",
              "      <td>1.0</td>\n",
              "      <td>Quantité limitée !</td>\n",
              "      <td>CN</td>\n",
              "      <td>youngpeopleshop</td>\n",
              "      <td>happyhorses</td>\n",
              "      <td>85 % avis positifs (14,482 notes)</td>\n",
              "      <td>14482</td>\n",
              "      <td>4.001588</td>\n",
              "      <td>5ab3b592c3911a095ad5dadb</td>\n",
              "      <td>0</td>\n",
              "      <td>NaN</td>\n",
              "      <td>https://www.wish.com/c/5ebf5819ebac372b070b0e70</td>\n",
              "      <td>https://contestimg.wish.com/api/webimage/5ebf5...</td>\n",
              "      <td>5ebf5819ebac372b070b0e70</td>\n",
              "      <td>summer</td>\n",
              "      <td>2020-08</td>\n",
              "    </tr>\n",
              "  </tbody>\n",
              "</table>\n",
              "</div>"
            ],
            "text/plain": [
              "                                               title  ... crawl_month\n",
              "0  2020 Summer Vintage Flamingo Print  Pajamas Se...  ...     2020-08\n",
              "1  SSHOUSE Summer Casual Sleeveless Soirée Party ...  ...     2020-08\n",
              "2  2020 Nouvelle Arrivée Femmes Printemps et Été ...  ...     2020-08\n",
              "3  Hot Summer Cool T-shirt pour les femmes Mode T...  ...     2020-08\n",
              "4  Femmes Shorts d'été à lacets taille élastique ...  ...     2020-08\n",
              "\n",
              "[5 rows x 43 columns]"
            ]
          },
          "metadata": {
            "tags": []
          },
          "execution_count": 3
        }
      ]
    },
    {
      "cell_type": "code",
      "metadata": {
        "id": "j7zk9G3XZXko",
        "colab_type": "code",
        "colab": {
          "base_uri": "https://localhost:8080/",
          "height": 798
        },
        "outputId": "e568c3b3-a767-4810-aac2-6566fd3bb1c3"
      },
      "source": [
        "df.dtypes"
      ],
      "execution_count": 4,
      "outputs": [
        {
          "output_type": "execute_result",
          "data": {
            "text/plain": [
              "title                            object\n",
              "title_orig                       object\n",
              "price                           float64\n",
              "retail_price                      int64\n",
              "currency_buyer                   object\n",
              "units_sold                        int64\n",
              "uses_ad_boosts                    int64\n",
              "rating                          float64\n",
              "rating_count                      int64\n",
              "rating_five_count               float64\n",
              "rating_four_count               float64\n",
              "rating_three_count              float64\n",
              "rating_two_count                float64\n",
              "rating_one_count                float64\n",
              "badges_count                      int64\n",
              "badge_local_product               int64\n",
              "badge_product_quality             int64\n",
              "badge_fast_shipping               int64\n",
              "tags                             object\n",
              "product_color                    object\n",
              "product_variation_size_id        object\n",
              "product_variation_inventory       int64\n",
              "shipping_option_name             object\n",
              "shipping_option_price             int64\n",
              "shipping_is_express               int64\n",
              "countries_shipped_to              int64\n",
              "inventory_total                   int64\n",
              "has_urgency_banner              float64\n",
              "urgency_text                     object\n",
              "origin_country                   object\n",
              "merchant_title                   object\n",
              "merchant_name                    object\n",
              "merchant_info_subtitle           object\n",
              "merchant_rating_count             int64\n",
              "merchant_rating                 float64\n",
              "merchant_id                      object\n",
              "merchant_has_profile_picture      int64\n",
              "merchant_profile_picture         object\n",
              "product_url                      object\n",
              "product_picture                  object\n",
              "product_id                       object\n",
              "theme                            object\n",
              "crawl_month                      object\n",
              "dtype: object"
            ]
          },
          "metadata": {
            "tags": []
          },
          "execution_count": 4
        }
      ]
    },
    {
      "cell_type": "code",
      "metadata": {
        "id": "-LI1SpjsZiPY",
        "colab_type": "code",
        "colab": {
          "base_uri": "https://localhost:8080/",
          "height": 34
        },
        "outputId": "b8d14969-d675-411e-dcf2-888bce8719ff"
      },
      "source": [
        "df.shape"
      ],
      "execution_count": 5,
      "outputs": [
        {
          "output_type": "execute_result",
          "data": {
            "text/plain": [
              "(1573, 43)"
            ]
          },
          "metadata": {
            "tags": []
          },
          "execution_count": 5
        }
      ]
    },
    {
      "cell_type": "code",
      "metadata": {
        "id": "dL4p2DO4lWOa",
        "colab_type": "code",
        "colab": {
          "base_uri": "https://localhost:8080/",
          "height": 283
        },
        "outputId": "c669ed1e-745c-410a-e466-eb5bba8cbd7b"
      },
      "source": [
        "df.columns"
      ],
      "execution_count": 6,
      "outputs": [
        {
          "output_type": "execute_result",
          "data": {
            "text/plain": [
              "Index(['title', 'title_orig', 'price', 'retail_price', 'currency_buyer',\n",
              "       'units_sold', 'uses_ad_boosts', 'rating', 'rating_count',\n",
              "       'rating_five_count', 'rating_four_count', 'rating_three_count',\n",
              "       'rating_two_count', 'rating_one_count', 'badges_count',\n",
              "       'badge_local_product', 'badge_product_quality', 'badge_fast_shipping',\n",
              "       'tags', 'product_color', 'product_variation_size_id',\n",
              "       'product_variation_inventory', 'shipping_option_name',\n",
              "       'shipping_option_price', 'shipping_is_express', 'countries_shipped_to',\n",
              "       'inventory_total', 'has_urgency_banner', 'urgency_text',\n",
              "       'origin_country', 'merchant_title', 'merchant_name',\n",
              "       'merchant_info_subtitle', 'merchant_rating_count', 'merchant_rating',\n",
              "       'merchant_id', 'merchant_has_profile_picture',\n",
              "       'merchant_profile_picture', 'product_url', 'product_picture',\n",
              "       'product_id', 'theme', 'crawl_month'],\n",
              "      dtype='object')"
            ]
          },
          "metadata": {
            "tags": []
          },
          "execution_count": 6
        }
      ]
    },
    {
      "cell_type": "code",
      "metadata": {
        "id": "XyMEb8iUla4X",
        "colab_type": "code",
        "colab": {}
      },
      "source": [
        "df.drop(['title','currency_buyer','rating_five_count','rating_four_count','rating_three_count',\n",
        "         'rating_two_count','rating_one_count','merchant_title','merchant_name','merchant_info_subtitle',\n",
        "         'merchant_id','merchant_has_profile_picture','merchant_profile_picture','product_url','product_picture',\n",
        "         'theme','urgency_text','origin_country','product_id','crawl_month','shipping_option_name','product_id'],axis = 1 , inplace = True)"
      ],
      "execution_count": 7,
      "outputs": []
    },
    {
      "cell_type": "markdown",
      "metadata": {
        "id": "84YmQJjclaaZ",
        "colab_type": "text"
      },
      "source": [
        ""
      ]
    },
    {
      "cell_type": "code",
      "metadata": {
        "id": "cj_pIWqtZ4mT",
        "colab_type": "code",
        "colab": {
          "base_uri": "https://localhost:8080/",
          "height": 425
        },
        "outputId": "51a0cfee-039d-4439-af2a-feee8f9dc330"
      },
      "source": [
        "df.isnull().sum()"
      ],
      "execution_count": 8,
      "outputs": [
        {
          "output_type": "execute_result",
          "data": {
            "text/plain": [
              "title_orig                        0\n",
              "price                             0\n",
              "retail_price                      0\n",
              "units_sold                        0\n",
              "uses_ad_boosts                    0\n",
              "rating                            0\n",
              "rating_count                      0\n",
              "badges_count                      0\n",
              "badge_local_product               0\n",
              "badge_product_quality             0\n",
              "badge_fast_shipping               0\n",
              "tags                              0\n",
              "product_color                    41\n",
              "product_variation_size_id        14\n",
              "product_variation_inventory       0\n",
              "shipping_option_price             0\n",
              "shipping_is_express               0\n",
              "countries_shipped_to              0\n",
              "inventory_total                   0\n",
              "has_urgency_banner             1100\n",
              "merchant_rating_count             0\n",
              "merchant_rating                   0\n",
              "dtype: int64"
            ]
          },
          "metadata": {
            "tags": []
          },
          "execution_count": 8
        }
      ]
    },
    {
      "cell_type": "code",
      "metadata": {
        "id": "BlEaoMSof-8S",
        "colab_type": "code",
        "colab": {}
      },
      "source": [
        ""
      ],
      "execution_count": 8,
      "outputs": []
    },
    {
      "cell_type": "code",
      "metadata": {
        "id": "flX1pOxKezEV",
        "colab_type": "code",
        "colab": {
          "base_uri": "https://localhost:8080/",
          "height": 197
        },
        "outputId": "f9fefb5e-a283-4c90-bee9-d4309787ed83"
      },
      "source": [
        "df.head(1)"
      ],
      "execution_count": 9,
      "outputs": [
        {
          "output_type": "execute_result",
          "data": {
            "text/html": [
              "<div>\n",
              "<style scoped>\n",
              "    .dataframe tbody tr th:only-of-type {\n",
              "        vertical-align: middle;\n",
              "    }\n",
              "\n",
              "    .dataframe tbody tr th {\n",
              "        vertical-align: top;\n",
              "    }\n",
              "\n",
              "    .dataframe thead th {\n",
              "        text-align: right;\n",
              "    }\n",
              "</style>\n",
              "<table border=\"1\" class=\"dataframe\">\n",
              "  <thead>\n",
              "    <tr style=\"text-align: right;\">\n",
              "      <th></th>\n",
              "      <th>title_orig</th>\n",
              "      <th>price</th>\n",
              "      <th>retail_price</th>\n",
              "      <th>units_sold</th>\n",
              "      <th>uses_ad_boosts</th>\n",
              "      <th>rating</th>\n",
              "      <th>rating_count</th>\n",
              "      <th>badges_count</th>\n",
              "      <th>badge_local_product</th>\n",
              "      <th>badge_product_quality</th>\n",
              "      <th>badge_fast_shipping</th>\n",
              "      <th>tags</th>\n",
              "      <th>product_color</th>\n",
              "      <th>product_variation_size_id</th>\n",
              "      <th>product_variation_inventory</th>\n",
              "      <th>shipping_option_price</th>\n",
              "      <th>shipping_is_express</th>\n",
              "      <th>countries_shipped_to</th>\n",
              "      <th>inventory_total</th>\n",
              "      <th>has_urgency_banner</th>\n",
              "      <th>merchant_rating_count</th>\n",
              "      <th>merchant_rating</th>\n",
              "    </tr>\n",
              "  </thead>\n",
              "  <tbody>\n",
              "    <tr>\n",
              "      <th>0</th>\n",
              "      <td>2020 Summer Vintage Flamingo Print  Pajamas Se...</td>\n",
              "      <td>16.0</td>\n",
              "      <td>14</td>\n",
              "      <td>100</td>\n",
              "      <td>0</td>\n",
              "      <td>3.76</td>\n",
              "      <td>54</td>\n",
              "      <td>0</td>\n",
              "      <td>0</td>\n",
              "      <td>0</td>\n",
              "      <td>0</td>\n",
              "      <td>Summer,Fashion,womenunderwearsuit,printedpajam...</td>\n",
              "      <td>white</td>\n",
              "      <td>M</td>\n",
              "      <td>50</td>\n",
              "      <td>4</td>\n",
              "      <td>0</td>\n",
              "      <td>34</td>\n",
              "      <td>50</td>\n",
              "      <td>1.0</td>\n",
              "      <td>568</td>\n",
              "      <td>4.128521</td>\n",
              "    </tr>\n",
              "  </tbody>\n",
              "</table>\n",
              "</div>"
            ],
            "text/plain": [
              "                                          title_orig  ...  merchant_rating\n",
              "0  2020 Summer Vintage Flamingo Print  Pajamas Se...  ...         4.128521\n",
              "\n",
              "[1 rows x 22 columns]"
            ]
          },
          "metadata": {
            "tags": []
          },
          "execution_count": 9
        }
      ]
    },
    {
      "cell_type": "code",
      "metadata": {
        "id": "NVTef290nbfD",
        "colab_type": "code",
        "colab": {}
      },
      "source": [
        "import sys\n",
        "\n",
        "np.set_printoptions(threshold= np.inf)"
      ],
      "execution_count": 10,
      "outputs": []
    },
    {
      "cell_type": "code",
      "metadata": {
        "id": "TLtofqIboI1E",
        "colab_type": "code",
        "colab": {}
      },
      "source": [
        "def product_size(name):\n",
        "    if name == \"XS.\" \\\n",
        "    or name == \"Size-XS\" \\\n",
        "    or name == 31|31 \\\n",
        "    or name == \"SIZE XS\" :\n",
        "      return \"XS\"\n",
        "    elif name == \"Size S\" \\\n",
        "    or name == \"s\" \\\n",
        "    or name == \"Size-S\" \\\n",
        "    or name == \"Size S\" \\\n",
        "    or name == \"Suit-S\" \\\n",
        "    or name == 32| 33 \\\n",
        "    or name == \"S Pink\" \\\n",
        "    or name == \"size S\" \\\n",
        "    or name == \"S(bust 88cm)\" \\\n",
        "    or name == \"US-S\" :\n",
        "      return \"S\"\n",
        "    elif name == \"XXXS\" \\\n",
        "    or name == \"SIZE-XXS\" \\\n",
        "    or name == \"Size -XXS\" \\\n",
        "    or name == \"Size-XXS\" \\\n",
        "    or name == 28 | 29 \\\n",
        "    or name == \"Size XXS\" :\n",
        "        return \"XXS\"\n",
        "    elif name == \"M.\"  \\\n",
        "    or name == \"Size M\" :\n",
        "        return \"M\"\n",
        "    elif name == \"SizeL\" \\\n",
        "    or name == 36 :\n",
        "        return \"L\"\n",
        "    elif name == \"2XL\"  \\\n",
        "    or name == 37 :\n",
        "        return \"XL\"\n",
        "    elif name == \"S\" \\\n",
        "    or name == \"XS\" \\\n",
        "    or name == \"M\" \\\n",
        "    or name == \"XXS\"\\\n",
        "    or name == \"L\" \\\n",
        "    or name == \"XL\"\\\n",
        "    or name == \"XXL\"\\\n",
        "    or name == \"XXXS\"\\\n",
        "    or name == \"XXXL\"\\\n",
        "    or name == \"XXXXL\":\n",
        "        return name\n",
        "    else:\n",
        "        return \"Other\" \n",
        "\n",
        "    \n",
        "df['product_variation_size_id']  = df['product_variation_size_id'].replace(np.nan,\"Other\") \n",
        "df['product_variation_size_id']  = df['product_variation_size_id'].apply(product_size) "
      ],
      "execution_count": 11,
      "outputs": []
    },
    {
      "cell_type": "code",
      "metadata": {
        "id": "Xqc-CK9DyHvz",
        "colab_type": "code",
        "colab": {
          "base_uri": "https://localhost:8080/",
          "height": 212
        },
        "outputId": "307fc1e1-faee-4f10-e6a3-759507a5205b"
      },
      "source": [
        "\n",
        "\n",
        "\n",
        "df['product_variation_size_id'].value_counts().head(60)"
      ],
      "execution_count": 12,
      "outputs": [
        {
          "output_type": "execute_result",
          "data": {
            "text/plain": [
              "S        663\n",
              "XS       369\n",
              "M        206\n",
              "Other    132\n",
              "XXS      112\n",
              "L         52\n",
              "XL        21\n",
              "XXL       15\n",
              "XXXXL      2\n",
              "XXXL       1\n",
              "Name: product_variation_size_id, dtype: int64"
            ]
          },
          "metadata": {
            "tags": []
          },
          "execution_count": 12
        }
      ]
    },
    {
      "cell_type": "code",
      "metadata": {
        "id": "IILcJUqPMTai",
        "colab_type": "code",
        "colab": {
          "base_uri": "https://localhost:8080/",
          "height": 651
        },
        "outputId": "400a7b02-4c49-4c6e-a1dd-8af79670b5a6"
      },
      "source": [
        "df.head(5)"
      ],
      "execution_count": 14,
      "outputs": [
        {
          "output_type": "execute_result",
          "data": {
            "text/html": [
              "<div>\n",
              "<style scoped>\n",
              "    .dataframe tbody tr th:only-of-type {\n",
              "        vertical-align: middle;\n",
              "    }\n",
              "\n",
              "    .dataframe tbody tr th {\n",
              "        vertical-align: top;\n",
              "    }\n",
              "\n",
              "    .dataframe thead th {\n",
              "        text-align: right;\n",
              "    }\n",
              "</style>\n",
              "<table border=\"1\" class=\"dataframe\">\n",
              "  <thead>\n",
              "    <tr style=\"text-align: right;\">\n",
              "      <th></th>\n",
              "      <th>title_orig</th>\n",
              "      <th>price</th>\n",
              "      <th>retail_price</th>\n",
              "      <th>units_sold</th>\n",
              "      <th>uses_ad_boosts</th>\n",
              "      <th>rating</th>\n",
              "      <th>rating_count</th>\n",
              "      <th>badges_count</th>\n",
              "      <th>badge_local_product</th>\n",
              "      <th>badge_product_quality</th>\n",
              "      <th>badge_fast_shipping</th>\n",
              "      <th>tags</th>\n",
              "      <th>product_color</th>\n",
              "      <th>product_variation_size_id</th>\n",
              "      <th>product_variation_inventory</th>\n",
              "      <th>shipping_option_price</th>\n",
              "      <th>shipping_is_express</th>\n",
              "      <th>countries_shipped_to</th>\n",
              "      <th>inventory_total</th>\n",
              "      <th>has_urgency_banner</th>\n",
              "      <th>merchant_rating_count</th>\n",
              "      <th>merchant_rating</th>\n",
              "    </tr>\n",
              "  </thead>\n",
              "  <tbody>\n",
              "    <tr>\n",
              "      <th>0</th>\n",
              "      <td>2020 Summer Vintage Flamingo Print  Pajamas Se...</td>\n",
              "      <td>16.00</td>\n",
              "      <td>14</td>\n",
              "      <td>100</td>\n",
              "      <td>0</td>\n",
              "      <td>3.76</td>\n",
              "      <td>54</td>\n",
              "      <td>0</td>\n",
              "      <td>0</td>\n",
              "      <td>0</td>\n",
              "      <td>0</td>\n",
              "      <td>Summer,Fashion,womenunderwearsuit,printedpajam...</td>\n",
              "      <td>white</td>\n",
              "      <td>M</td>\n",
              "      <td>50</td>\n",
              "      <td>4</td>\n",
              "      <td>0</td>\n",
              "      <td>34</td>\n",
              "      <td>50</td>\n",
              "      <td>1.0</td>\n",
              "      <td>568</td>\n",
              "      <td>4.128521</td>\n",
              "    </tr>\n",
              "    <tr>\n",
              "      <th>1</th>\n",
              "      <td>Women's Casual Summer Sleeveless Sexy Mini Dress</td>\n",
              "      <td>8.00</td>\n",
              "      <td>22</td>\n",
              "      <td>20000</td>\n",
              "      <td>1</td>\n",
              "      <td>3.45</td>\n",
              "      <td>6135</td>\n",
              "      <td>0</td>\n",
              "      <td>0</td>\n",
              "      <td>0</td>\n",
              "      <td>0</td>\n",
              "      <td>Mini,womens dresses,Summer,Patchwork,fashion d...</td>\n",
              "      <td>green</td>\n",
              "      <td>XS</td>\n",
              "      <td>50</td>\n",
              "      <td>2</td>\n",
              "      <td>0</td>\n",
              "      <td>41</td>\n",
              "      <td>50</td>\n",
              "      <td>1.0</td>\n",
              "      <td>17752</td>\n",
              "      <td>3.899673</td>\n",
              "    </tr>\n",
              "    <tr>\n",
              "      <th>2</th>\n",
              "      <td>2020 New Arrival Women Spring and Summer Beach...</td>\n",
              "      <td>8.00</td>\n",
              "      <td>43</td>\n",
              "      <td>100</td>\n",
              "      <td>0</td>\n",
              "      <td>3.57</td>\n",
              "      <td>14</td>\n",
              "      <td>0</td>\n",
              "      <td>0</td>\n",
              "      <td>0</td>\n",
              "      <td>0</td>\n",
              "      <td>Summer,cardigan,women beachwear,chiffon,Sexy w...</td>\n",
              "      <td>leopardprint</td>\n",
              "      <td>XS</td>\n",
              "      <td>1</td>\n",
              "      <td>3</td>\n",
              "      <td>0</td>\n",
              "      <td>36</td>\n",
              "      <td>50</td>\n",
              "      <td>1.0</td>\n",
              "      <td>295</td>\n",
              "      <td>3.989831</td>\n",
              "    </tr>\n",
              "    <tr>\n",
              "      <th>3</th>\n",
              "      <td>Hot Summer Cool T Shirt for Women Fashion Tops...</td>\n",
              "      <td>8.00</td>\n",
              "      <td>8</td>\n",
              "      <td>5000</td>\n",
              "      <td>1</td>\n",
              "      <td>4.03</td>\n",
              "      <td>579</td>\n",
              "      <td>0</td>\n",
              "      <td>0</td>\n",
              "      <td>0</td>\n",
              "      <td>0</td>\n",
              "      <td>Summer,Shorts,Cotton,Cotton T Shirt,Sleeve,pri...</td>\n",
              "      <td>black</td>\n",
              "      <td>M</td>\n",
              "      <td>50</td>\n",
              "      <td>2</td>\n",
              "      <td>0</td>\n",
              "      <td>41</td>\n",
              "      <td>50</td>\n",
              "      <td>NaN</td>\n",
              "      <td>23832</td>\n",
              "      <td>4.020435</td>\n",
              "    </tr>\n",
              "    <tr>\n",
              "      <th>4</th>\n",
              "      <td>Women Summer Shorts Lace Up Elastic Waistband ...</td>\n",
              "      <td>2.72</td>\n",
              "      <td>3</td>\n",
              "      <td>100</td>\n",
              "      <td>1</td>\n",
              "      <td>3.10</td>\n",
              "      <td>20</td>\n",
              "      <td>0</td>\n",
              "      <td>0</td>\n",
              "      <td>0</td>\n",
              "      <td>0</td>\n",
              "      <td>Summer,Plus Size,Lace,Casual pants,Bottom,pant...</td>\n",
              "      <td>yellow</td>\n",
              "      <td>S</td>\n",
              "      <td>1</td>\n",
              "      <td>1</td>\n",
              "      <td>0</td>\n",
              "      <td>35</td>\n",
              "      <td>50</td>\n",
              "      <td>1.0</td>\n",
              "      <td>14482</td>\n",
              "      <td>4.001588</td>\n",
              "    </tr>\n",
              "  </tbody>\n",
              "</table>\n",
              "</div>"
            ],
            "text/plain": [
              "                                          title_orig  ...  merchant_rating\n",
              "0  2020 Summer Vintage Flamingo Print  Pajamas Se...  ...         4.128521\n",
              "1   Women's Casual Summer Sleeveless Sexy Mini Dress  ...         3.899673\n",
              "2  2020 New Arrival Women Spring and Summer Beach...  ...         3.989831\n",
              "3  Hot Summer Cool T Shirt for Women Fashion Tops...  ...         4.020435\n",
              "4  Women Summer Shorts Lace Up Elastic Waistband ...  ...         4.001588\n",
              "\n",
              "[5 rows x 22 columns]"
            ]
          },
          "metadata": {
            "tags": []
          },
          "execution_count": 14
        }
      ]
    },
    {
      "cell_type": "code",
      "metadata": {
        "id": "Luian8eWdgjz",
        "colab_type": "code",
        "colab": {
          "base_uri": "https://localhost:8080/",
          "height": 1000
        },
        "outputId": "0cecc1ab-4c6b-48c9-bfae-3879cc6ac279"
      },
      "source": [
        "df['tags'].value_counts().head(60)"
      ],
      "execution_count": 16,
      "outputs": [
        {
          "output_type": "execute_result",
          "data": {
            "text/plain": [
              "Summer,Fashion,Necks,Skirts,Dress,Loose,Women's Fashion,Round neck,beach dress,sleeveless,Beach,Casual,Women                                                                                                                                                           17\n",
              "Summer,Sling,Dresses,Dress,V-neck,Casual,Pocket,Women's Fashion,Sleeveless dress,women dress,Floral,sleeveless,Women,loose dress,Pleated,casual dress                                                                                                                   9\n",
              "slimming,wasitcincher,Fashion,waistgirdle,slimmingcorset,Corset,Summer,Waist,waist trainer,Fashion Accessory,Vest,shaperwear,belt                                                                                                                                       8\n",
              "Summer,short sleeve dress,neck dress,Necks,Sleeve,Beach,Dress,Loose,short sleeves,V-neck,Shorts,beach dress,Plus Size,Midi Dress,summer dress,Print,Pullovers,Women's Fashion,Casual,Women                                                                              7\n",
              "Summer,Women Rompers,Plus Size,women long pants,linenjumpsuit,pants,Overalls,Loose,plussizejumpsuit,Women's Fashion,strappant,Long pants,Jumpsuits & Rompers,rompers womens jumpsuit,Vintage,Women,women Jumpsuit,Casual,jumpsuit                                       7\n",
              "Summer,Fashion,Necks,Beach,Dress,Loose,beach dress,Round neck,Women's Fashion,sleeveless,Skirts,Casual,Women                                                                                                                                                            7\n",
              "Summer,Leggings,Fashion,high waist,pants,slim,Women's Fashion,trousers,Green,Army,Women                                                                                                                                                                                 6\n",
              "Deep V-Neck,Summer,Plus Size,Spaghetti Strap,Overalls,Women's Fashion,sleeveless,Women,Casual,jumpsuit                                                                                                                                                                  5\n",
              "butterfly,Mini,Vest,Fashion,Tank,Necks,Summer,womemstop,Tops,tank top,Round neck,#top #crop,tankvest,sleeveless,Casual                                                                                                                                                  5\n",
              "pajamaset,Fashion,sexy pajamas for womens,silksleepwearforwomen,silksleepwear,pajamassuit,Casual,Women's Fashion,Summer,Sleepwear,pajamasforwomen,silksleepwearnightgown,silk,pajamassleepwear,women's pajamas,Women                                                    5\n",
              "Mini,womens dresses,Summer,sleevele,Dress,Mini dress,Women's Fashion,Fashion,backless,party,sexy,summer dresses,Women S Clothing,Casual,sleeveless                                                                                                                      5\n",
              "Summer,Shorts,high waist shorts,high waist,Casual pants,pants,summer shorts,Waist,Slim Fit,Short pants,Women's Fashion,Plus Size,Lace Up,Women,Fashion,Casual,Lace                                                                                                      5\n",
              "bandage top,Fashion,crop top,Halter,Summer,Women Set,elasticwaistshort,Women's Fashion,elastic waist,Casual,Women,Shorts,Waist,Elastic,Tops,pants,shortssuit,backless,Suits,Print,sleeveless,twopiecesset                                                               4\n",
              "Summer,Plus Size,Lace,Casual pants,Bottom,pants,Loose,Women's Fashion,Shorts,Lace Up,Elastic,Casual,Women                                                                                                                                                               4\n",
              "Summer,Plus Size,Tie Dye,tiedyeprint,Dyes,Dress,summer dress,short sleeves,Ladies,Women's Fashion,Shorts,off shoulder dress,Sleeve,Print,women dress,Casual,casual dress                                                                                                4\n",
              "bohemia,Summer,Plus Size,Loose,tank top,Women's Fashion,Fashion,sleeveless tops,Summer Fashion,Casual,Cotton,blouse,beachtshirt,Tank,Shirt,Tops,boho,women shirt,sleeveless,Women,Beach,printed                                                                         4\n",
              "Summer,Vest,Plus Size,Floral print,camisole,Loose,Round neck,Print,Women's Fashion,Fashion,Floral,sleeveless,Casual,Necks                                                                                                                                               4\n",
              "Summer,Plus Size,Floral print,summerjumpsuit,Rompers,Women,Necks,Casual,Elegant,Women's Fashion,offshoulderjumpsuit,sleevelessjumpsuit,Print,sleeveless,printjumpsuit,women Jumpsuit,Causal,Floral,jumpsuit                                                             4\n",
              "runningshort,Beach Shorts,beachpant,Bottom,sailboatshort,Shorts,Sport,beach swimwear,Men's Fashion,Puma,Summer,Men Shorts,men's shorts,surfshort,Beach,Men                                                                                                              4\n",
              "Summer,Women,Shorts,pants,Loose,Short pants,drawstring,Causal                                                                                                                                                                                                           3\n",
              "Summer,Plus Size,2pieceset,Women,slim,T Shirts,Shorts,tshirtandtop,Women's Fashion,twopieceoutfit,printed,Tie Dye,Dyes,sexy,shortsforwomen,Outfits,Fashion,Women Fashion,Slim Fit                                                                                       3\n",
              "Summer,Shorts,pants,Loose,Overalls,Fashion,black,sleeveless,Casual,jumpsuit                                                                                                                                                                                             3\n",
              "suspenders,Summer,Plus Size,Tank,Shirt,Beach,Tops,Loose,Women's Fashion,Fashion,printed,Summer Fashion,sleeveless,Cotton,blouse,Casual,Women                                                                                                                            3\n",
              "Summer,Shorts,Sleeve,cool,Men,outdoorsuit,short sleeves,Outfits,Round neck,jogging,Suits,Sport,Casual,Clothes                                                                                                                                                           3\n",
              "Summer,Plus Size,street style,V-neck,women summer tops,Sleeveless Shirt,Fashion,Casual T-Shirt,Casual,T Shirts,Shirt,blouse,Tank,summer tank top,Tops,Women's Fashion,woman shirt summer,Women,women tank top,sleeveless,summer t-shirts,Loose tank tops,Pure Color     3\n",
              "Summer,Shorts,Cotton,Cotton T Shirt,letter print,cute,teeshirthomme,short sleeves,animalprotectiontshirt,Round neck,Women's Fashion,Fashion,printed,topsamptee,Casual,beetshirt,Women,Sleeve,T Shirts,Necks                                                             3\n",
              "Mini,womens dresses,Summer,Patchwork,Dress,Mini dress,Women's Fashion,Women S Clothing,backless,party,summer dresses,sleeveless,sexy,Casual                                                                                                                             3\n",
              "Summer,Shorts,pants,Loose,Overalls,Casual,Women's Fashion,Fashion,black,sleeveless,jumpsuit,jumpsuitsampromper,Women Fashion,Women                                                                                                                                      3\n",
              "Summer,Plus Size,partydressesforwomen,Lace,robefemme,Dress,Lace Dress,casualdressesforwomen,Women's Fashion,white dress,sexydressesforwoman,beach dress,Fashion,backless,plus size dress,summerdressesforwomen,sundressesforwomen,Robes,Beach,white,Necks               3\n",
              "blouse,Summer,Vest,Plus Size,Tank,Shirt,Women Blouse,Short Sleeve Blouses,Tops,Ladies,Women's Fashion,Fashion,chiffon blouse,Print,sleeveless,feather,Sport,Casual,Women                                                                                                3\n",
              "Summer,Plus Size,long dress,Dress,summer dress,Party Dress,V-neck,Maxi Dresses,Casual,Women's Fashion,Sleeveless dress,backless,Sexy Dress,sleeveless,Women,loose dress,casual dress                                                                                    3\n",
              "Summer,Fashion,Elastic,pants,slim,Short pants,Women's Fashion,Running,Shorts,Sport,Casual,Slim Fit                                                                                                                                                                      3\n",
              "Summer,Shorts,women's jogging suits,Sleeve,shortsleeveset,Short pants,summersuitset,short sleeves,Sport,summerpant,mensjoggingsuit,Suits,Sport Suits,short sleeve shirt,Outfits,men's suits,Casual                                                                      3\n",
              "Summer,Plus Size,Necks,Dress,Polkas,Round neck,Women's Fashion,Fashion,polka dot,Sleeveless dress,Ladies,sleeveless,printed,Casual,Women                                                                                                                                3\n",
              "blouse,Summer,Plus Size,Tops & Blouses,Shirt,Women Vest,Tank,button,Spaghetti Strap,tank top,Tops,Women's Fashion,Fashion,V-neck,sleeveless,Casual,Women                                                                                                                3\n",
              "Summer,Shorts,Slim Fit,slim,twopiecesoutfit,V-neck,Women's Fashion,Fashion,tank top,Women,sexy,Sport,Casual,Women Fashion,Cotton                                                                                                                                        3\n",
              "Jeans,Plus Size,Sleeve,Summer,Dress,Denim,summer dress,denimjeansdres,short sleeves,casual dresses,Ladies,Women's Fashion,Shorts,minishirtdres,Lines,mididre,Women                                                                                                      3\n",
              "Summer,sexy bathing suit,Bikinis Set,splitbikiniset,Swimwear,Swimsuit,Bikini,Fashion,Two Pieces,printed,Women's Fashion,Women,Beach,splits                                                                                                                              3\n",
              "Summer,Plus Size,Shirt,letter print,splitdre,Dress,Mini dress,Women's Fashion,Fashion,splits,Print,Sport,Casual                                                                                                                                                         3\n",
              "Summer,Vest,Swimming,Halter,wrappedchest,letter print,bras for women,Tops,slingvest,Swimwear,Push up bikini,Print,Women's Fashion,Halter Bikini,sexy,Women,Beach,summer tops,Bras,Bottoming shirt                                                                       3\n",
              "Women Pants,womens jeans,Shorts,Ladies Fashion,Hot pants,pants,Short pants,Women's Fashion,skinnyshort,summerpant,Fashion,Summer,Denim Shorts,solid color,sexy,Jeans,Ladies,Women Fashion,Women                                                                         3\n",
              "Mini,summer dress,Floral print,Summer,womensfahsion,Spaghetti,Dress,floralprinteddres,Print,minidressforwomen,Mini dress,spaghettishoulderstrapdres,Women's Fashion,spaghettistrapdresse,Sexy Dress,Floral,sexy,Fashion                                                 3\n",
              "Summer,Shorts,Lace,pants,Waist,Short pants,Yellow,Women's Fashion,Plus Size,Lace Up,Women,Fashion,Casual,high waist                                                                                                                                                     3\n",
              "Summer,Fashion,Necks,Sleeve,Dress,neck dress,short sleeves,Round neck,Women's Fashion,Shorts,Loose,Casual,Women                                                                                                                                                         3\n",
              "Summer,Plus Size,halter dress,Necks,Halter,Dresses,Dress,Loose,V-neck,Women's Fashion,Sleeveless dress,off shoulder,summer dress,sleeveless,women dress,Women,Casual,Cotton                                                                                             3\n",
              "Mini,floralprinteddre,Plus Size,Floral print,Summer,Spaghetti,Dress,summer dress,Party Dress,beach dress,Mini dress,Print,Women's Fashion,Sleeveless dress,Sexy Dress,Floral,women dress,sexy,Fashion                                                                   3\n",
              "blouse,Summer,Plus Size,Tops & Blouses,Lace,Tank,Tops,topsamptshirt,tank top,Women's Fashion,Fashion,Loose,topsampblouse,Print,sleeveless,sexy,Women,Casual,Cotton                                                                                                      3\n",
              "Summer,Shorts,Breathable,Spring,Men,Socks,Men's Fashion,low,pure,Invisible,Cotton                                                                                                                                                                                       3\n",
              "blouse,Plus Size,Summer,Dress,short sleeves,V-neck,beach dress,Fashion,Casual,Deep V-Neck,Shorts,Tops & Blouses,Sleeve,summer dress,Women's Fashion,Swimsuit,Party Dress,Ladies,party,linen dress,Beach,loose dress,Swimming                                            3\n",
              "Summer,Shorts,Shirt,Sleeve,sportsset,short sleeves,Two piece set,lipprint,Ladies,women shorts,Fashion,lip,women t shirt,Round neck,Casual,Print,tracksuitsforwomen,runningset,Necks                                                                                     3\n",
              "Summer,Fashion,Mini,Tops,Loose,Polkas,V-neck,Women's Fashion,backless,polka dot,Dress,sleeveless,Casual                                                                                                                                                                 3\n",
              "Cotton,Women Vest,Vest,Women's Casual Tops,loose top,Tops & Tees,printed shirts,Tops,Sleeveless Shirt,Women's Fashion,Summer,sleeveless tops,sleeveless,Tank,womens tank tops,summer tops,printed                                                                       3\n",
              "Summer,Plus Size,crop top,Cotton T Shirt,T Shirts,Fashion,off shoulder,Casual T-Shirt,sexy,Casual,Shirt,blouse,Cotton,Sexy Top,Sleeve,Tops,Womens Blouse,Women's Fashion,Printing t shirt,Ladies,loose t-shirt,Women,Ladies Fashion                                     3\n",
              "blouse,Summer,Plus Size,Shirt,Sleeve,Tops,Loose,short sleeves,V-neck,T Shirts,Shorts,Fashion,Ladies,Women's Fashion,Casual,Women                                                                                                                                        3\n",
              "Summer,trousers,Tank,pants,Spring,Overalls,Women's Fashion,Fashion,black,Ladies,sleeveless,Wool,women Jumpsuit,Casual,jumpsuit                                                                                                                                          3\n",
              "Mini,spaghettistrapdresse,Floral print,Summer,womensfahsion,Spaghetti,Dress,summer dress,Print,minidressforwomen,Mini dress,spaghettishoulderstrapdre,Women's Fashion,floralprinteddre,Sexy Dress,Floral,sexy,Fashion                                                   3\n",
              "blouse,Women Vest,Vest,summer t-shirts,Tank,Shirt,Summer,Tops,Loose,Casual,slingtop,Print,Women's Fashion,printed,Tops & T-Shirts,Plus size top,sleeveless,Tank&Sleeveless                                                                                              3\n",
              "Women Pants,capripant,elastic waist,Waist,Elastic,pants,Summer,Fitness,jogging,harem pants,Women's Fashion,trousers,34pant,Sport,Fashion,Casual                                                                                                                         3\n",
              "Summer,Shorts,pants,Fitness,Short pants,runningpant,Men's Fashion,Casual,Red,Cotton                                                                                                                                                                                     3\n",
              "Summer,Plus Size,women dresses,polka dot,Spaghetti Strap,Polkas,irregulardre,boho,Women's Fashion,Party Dress,boho dress,Dress,sleeveless,sundress,Beach,Casual,Women                                                                                                   3\n",
              "Name: tags, dtype: int64"
            ]
          },
          "metadata": {
            "tags": []
          },
          "execution_count": 16
        }
      ]
    },
    {
      "cell_type": "code",
      "metadata": {
        "id": "csdzwjTPd8JQ",
        "colab_type": "code",
        "colab": {}
      },
      "source": [
        "from nltk.tokenize import word_tokenize"
      ],
      "execution_count": 17,
      "outputs": []
    },
    {
      "cell_type": "code",
      "metadata": {
        "id": "IDdqN_1SgEHL",
        "colab_type": "code",
        "colab": {
          "base_uri": "https://localhost:8080/",
          "height": 34
        },
        "outputId": "420ab592-5baf-43a8-fbaa-686aebc4e2be"
      },
      "source": [
        "df.shape"
      ],
      "execution_count": 19,
      "outputs": [
        {
          "output_type": "execute_result",
          "data": {
            "text/plain": [
              "(1573, 22)"
            ]
          },
          "metadata": {
            "tags": []
          },
          "execution_count": 19
        }
      ]
    },
    {
      "cell_type": "code",
      "metadata": {
        "id": "qkXqGiSpgKt3",
        "colab_type": "code",
        "colab": {
          "base_uri": "https://localhost:8080/",
          "height": 618
        },
        "outputId": "ca683bc0-e58a-49c6-88be-f868bd5bb9fe"
      },
      "source": [
        "word_tokenize(\"Summer,trousers,Tank,pants,Spring,Overalls,Women's Fashion,Fashion,black,Ladies,sleeveless,Wool,women Jumpsuit,Casual,jumpsuit\")"
      ],
      "execution_count": 21,
      "outputs": [
        {
          "output_type": "error",
          "ename": "LookupError",
          "evalue": "ignored",
          "traceback": [
            "\u001b[0;31m---------------------------------------------------------------------------\u001b[0m",
            "\u001b[0;31mLookupError\u001b[0m                               Traceback (most recent call last)",
            "\u001b[0;32m<ipython-input-21-1d27c565c84d>\u001b[0m in \u001b[0;36m<module>\u001b[0;34m()\u001b[0m\n\u001b[0;32m----> 1\u001b[0;31m \u001b[0mword_tokenize\u001b[0m\u001b[0;34m(\u001b[0m\u001b[0;34m\"Summer,trousers,Tank,pants,Spring,Overalls,Women's Fashion,Fashion,black,Ladies,sleeveless,Wool,women Jumpsuit,Casual,jumpsuit\"\u001b[0m\u001b[0;34m)\u001b[0m\u001b[0;34m\u001b[0m\u001b[0;34m\u001b[0m\u001b[0m\n\u001b[0m",
            "\u001b[0;32m/usr/local/lib/python3.6/dist-packages/nltk/tokenize/__init__.py\u001b[0m in \u001b[0;36mword_tokenize\u001b[0;34m(text, language, preserve_line)\u001b[0m\n\u001b[1;32m    126\u001b[0m     \u001b[0;34m:\u001b[0m\u001b[0mtype\u001b[0m \u001b[0mpreserver_line\u001b[0m\u001b[0;34m:\u001b[0m \u001b[0mbool\u001b[0m\u001b[0;34m\u001b[0m\u001b[0;34m\u001b[0m\u001b[0m\n\u001b[1;32m    127\u001b[0m     \"\"\"\n\u001b[0;32m--> 128\u001b[0;31m     \u001b[0msentences\u001b[0m \u001b[0;34m=\u001b[0m \u001b[0;34m[\u001b[0m\u001b[0mtext\u001b[0m\u001b[0;34m]\u001b[0m \u001b[0;32mif\u001b[0m \u001b[0mpreserve_line\u001b[0m \u001b[0;32melse\u001b[0m \u001b[0msent_tokenize\u001b[0m\u001b[0;34m(\u001b[0m\u001b[0mtext\u001b[0m\u001b[0;34m,\u001b[0m \u001b[0mlanguage\u001b[0m\u001b[0;34m)\u001b[0m\u001b[0;34m\u001b[0m\u001b[0;34m\u001b[0m\u001b[0m\n\u001b[0m\u001b[1;32m    129\u001b[0m     return [token for sent in sentences\n\u001b[1;32m    130\u001b[0m             for token in _treebank_word_tokenizer.tokenize(sent)]\n",
            "\u001b[0;32m/usr/local/lib/python3.6/dist-packages/nltk/tokenize/__init__.py\u001b[0m in \u001b[0;36msent_tokenize\u001b[0;34m(text, language)\u001b[0m\n\u001b[1;32m     92\u001b[0m     \u001b[0;34m:\u001b[0m\u001b[0mparam\u001b[0m \u001b[0mlanguage\u001b[0m\u001b[0;34m:\u001b[0m \u001b[0mthe\u001b[0m \u001b[0mmodel\u001b[0m \u001b[0mname\u001b[0m \u001b[0;32min\u001b[0m \u001b[0mthe\u001b[0m \u001b[0mPunkt\u001b[0m \u001b[0mcorpus\u001b[0m\u001b[0;34m\u001b[0m\u001b[0;34m\u001b[0m\u001b[0m\n\u001b[1;32m     93\u001b[0m     \"\"\"\n\u001b[0;32m---> 94\u001b[0;31m     \u001b[0mtokenizer\u001b[0m \u001b[0;34m=\u001b[0m \u001b[0mload\u001b[0m\u001b[0;34m(\u001b[0m\u001b[0;34m'tokenizers/punkt/{0}.pickle'\u001b[0m\u001b[0;34m.\u001b[0m\u001b[0mformat\u001b[0m\u001b[0;34m(\u001b[0m\u001b[0mlanguage\u001b[0m\u001b[0;34m)\u001b[0m\u001b[0;34m)\u001b[0m\u001b[0;34m\u001b[0m\u001b[0;34m\u001b[0m\u001b[0m\n\u001b[0m\u001b[1;32m     95\u001b[0m     \u001b[0;32mreturn\u001b[0m \u001b[0mtokenizer\u001b[0m\u001b[0;34m.\u001b[0m\u001b[0mtokenize\u001b[0m\u001b[0;34m(\u001b[0m\u001b[0mtext\u001b[0m\u001b[0;34m)\u001b[0m\u001b[0;34m\u001b[0m\u001b[0;34m\u001b[0m\u001b[0m\n\u001b[1;32m     96\u001b[0m \u001b[0;34m\u001b[0m\u001b[0m\n",
            "\u001b[0;32m/usr/local/lib/python3.6/dist-packages/nltk/data.py\u001b[0m in \u001b[0;36mload\u001b[0;34m(resource_url, format, cache, verbose, logic_parser, fstruct_reader, encoding)\u001b[0m\n\u001b[1;32m    832\u001b[0m \u001b[0;34m\u001b[0m\u001b[0m\n\u001b[1;32m    833\u001b[0m     \u001b[0;31m# Load the resource.\u001b[0m\u001b[0;34m\u001b[0m\u001b[0;34m\u001b[0m\u001b[0;34m\u001b[0m\u001b[0m\n\u001b[0;32m--> 834\u001b[0;31m     \u001b[0mopened_resource\u001b[0m \u001b[0;34m=\u001b[0m \u001b[0m_open\u001b[0m\u001b[0;34m(\u001b[0m\u001b[0mresource_url\u001b[0m\u001b[0;34m)\u001b[0m\u001b[0;34m\u001b[0m\u001b[0;34m\u001b[0m\u001b[0m\n\u001b[0m\u001b[1;32m    835\u001b[0m \u001b[0;34m\u001b[0m\u001b[0m\n\u001b[1;32m    836\u001b[0m     \u001b[0;32mif\u001b[0m \u001b[0mformat\u001b[0m \u001b[0;34m==\u001b[0m \u001b[0;34m'raw'\u001b[0m\u001b[0;34m:\u001b[0m\u001b[0;34m\u001b[0m\u001b[0;34m\u001b[0m\u001b[0m\n",
            "\u001b[0;32m/usr/local/lib/python3.6/dist-packages/nltk/data.py\u001b[0m in \u001b[0;36m_open\u001b[0;34m(resource_url)\u001b[0m\n\u001b[1;32m    950\u001b[0m \u001b[0;34m\u001b[0m\u001b[0m\n\u001b[1;32m    951\u001b[0m     \u001b[0;32mif\u001b[0m \u001b[0mprotocol\u001b[0m \u001b[0;32mis\u001b[0m \u001b[0;32mNone\u001b[0m \u001b[0;32mor\u001b[0m \u001b[0mprotocol\u001b[0m\u001b[0;34m.\u001b[0m\u001b[0mlower\u001b[0m\u001b[0;34m(\u001b[0m\u001b[0;34m)\u001b[0m \u001b[0;34m==\u001b[0m \u001b[0;34m'nltk'\u001b[0m\u001b[0;34m:\u001b[0m\u001b[0;34m\u001b[0m\u001b[0;34m\u001b[0m\u001b[0m\n\u001b[0;32m--> 952\u001b[0;31m         \u001b[0;32mreturn\u001b[0m \u001b[0mfind\u001b[0m\u001b[0;34m(\u001b[0m\u001b[0mpath_\u001b[0m\u001b[0;34m,\u001b[0m \u001b[0mpath\u001b[0m \u001b[0;34m+\u001b[0m \u001b[0;34m[\u001b[0m\u001b[0;34m''\u001b[0m\u001b[0;34m]\u001b[0m\u001b[0;34m)\u001b[0m\u001b[0;34m.\u001b[0m\u001b[0mopen\u001b[0m\u001b[0;34m(\u001b[0m\u001b[0;34m)\u001b[0m\u001b[0;34m\u001b[0m\u001b[0;34m\u001b[0m\u001b[0m\n\u001b[0m\u001b[1;32m    953\u001b[0m     \u001b[0;32melif\u001b[0m \u001b[0mprotocol\u001b[0m\u001b[0;34m.\u001b[0m\u001b[0mlower\u001b[0m\u001b[0;34m(\u001b[0m\u001b[0;34m)\u001b[0m \u001b[0;34m==\u001b[0m \u001b[0;34m'file'\u001b[0m\u001b[0;34m:\u001b[0m\u001b[0;34m\u001b[0m\u001b[0;34m\u001b[0m\u001b[0m\n\u001b[1;32m    954\u001b[0m         \u001b[0;31m# urllib might not use mode='rb', so handle this one ourselves:\u001b[0m\u001b[0;34m\u001b[0m\u001b[0;34m\u001b[0m\u001b[0;34m\u001b[0m\u001b[0m\n",
            "\u001b[0;32m/usr/local/lib/python3.6/dist-packages/nltk/data.py\u001b[0m in \u001b[0;36mfind\u001b[0;34m(resource_name, paths)\u001b[0m\n\u001b[1;32m    671\u001b[0m     \u001b[0msep\u001b[0m \u001b[0;34m=\u001b[0m \u001b[0;34m'*'\u001b[0m \u001b[0;34m*\u001b[0m \u001b[0;36m70\u001b[0m\u001b[0;34m\u001b[0m\u001b[0;34m\u001b[0m\u001b[0m\n\u001b[1;32m    672\u001b[0m     \u001b[0mresource_not_found\u001b[0m \u001b[0;34m=\u001b[0m \u001b[0;34m'\\n%s\\n%s\\n%s\\n'\u001b[0m \u001b[0;34m%\u001b[0m \u001b[0;34m(\u001b[0m\u001b[0msep\u001b[0m\u001b[0;34m,\u001b[0m \u001b[0mmsg\u001b[0m\u001b[0;34m,\u001b[0m \u001b[0msep\u001b[0m\u001b[0;34m)\u001b[0m\u001b[0;34m\u001b[0m\u001b[0;34m\u001b[0m\u001b[0m\n\u001b[0;32m--> 673\u001b[0;31m     \u001b[0;32mraise\u001b[0m \u001b[0mLookupError\u001b[0m\u001b[0;34m(\u001b[0m\u001b[0mresource_not_found\u001b[0m\u001b[0;34m)\u001b[0m\u001b[0;34m\u001b[0m\u001b[0;34m\u001b[0m\u001b[0m\n\u001b[0m\u001b[1;32m    674\u001b[0m \u001b[0;34m\u001b[0m\u001b[0m\n\u001b[1;32m    675\u001b[0m \u001b[0;34m\u001b[0m\u001b[0m\n",
            "\u001b[0;31mLookupError\u001b[0m: \n**********************************************************************\n  Resource \u001b[93mpunkt\u001b[0m not found.\n  Please use the NLTK Downloader to obtain the resource:\n\n  \u001b[31m>>> import nltk\n  >>> nltk.download('punkt')\n  \u001b[0m\n  Searched in:\n    - '/root/nltk_data'\n    - '/usr/share/nltk_data'\n    - '/usr/local/share/nltk_data'\n    - '/usr/lib/nltk_data'\n    - '/usr/local/lib/nltk_data'\n    - '/usr/nltk_data'\n    - '/usr/lib/nltk_data'\n    - ''\n**********************************************************************\n"
          ]
        }
      ]
    }
  ]
}